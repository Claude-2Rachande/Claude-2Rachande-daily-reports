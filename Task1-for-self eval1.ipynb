{
 "cells": [
  {
   "cell_type": "markdown",
   "id": "426486dd",
   "metadata": {
    "id": "426486dd"
   },
   "source": [
    "\n",
    "\n",
    "# Practical_1: Variables and Assignments"
   ]
  },
  {
   "cell_type": "markdown",
   "id": "f0923b83-7b3b-4232-8072-20443ebeda83",
   "metadata": {
    "id": "9fb19f0d"
   },
   "source": [
    "----\n",
    "\n",
    "### Exercise 1:\n",
    "Declare a variable `x` and assign it the value `10`.\n",
    "\n",
    "```python\n",
    "# Exercise 1\n",
    "```\n",
    "\n",
    "---"
   ]
  },
  {
   "cell_type": "code",
   "execution_count": 2,
   "id": "d59c8224-2e09-498a-b910-62926f98b5e4",
   "metadata": {},
   "outputs": [
    {
     "data": {
      "text/plain": [
       "10"
      ]
     },
     "execution_count": 2,
     "metadata": {},
     "output_type": "execute_result"
    }
   ],
   "source": [
    "x=10\n",
    "x"
   ]
  },
  {
   "cell_type": "markdown",
   "id": "01d38d80-b153-4abc-a2f3-84b302c5bdd4",
   "metadata": {
    "id": "9fb19f0d"
   },
   "source": [
    "### Exercise 2:\n",
    "Assign the value `True` to a variable called `is_valid`.\n",
    "\n",
    "```python\n",
    "# Exercise 2\n",
    "```\n",
    "\n",
    "---"
   ]
  },
  {
   "cell_type": "code",
   "execution_count": 4,
   "id": "cabf6868-947b-4857-92ee-4f4ec6b59523",
   "metadata": {},
   "outputs": [
    {
     "data": {
      "text/plain": [
       "True"
      ]
     },
     "execution_count": 4,
     "metadata": {},
     "output_type": "execute_result"
    }
   ],
   "source": [
    "is_valid=True\n",
    "is_valid"
   ]
  },
  {
   "cell_type": "markdown",
   "id": "c4de0888-3eed-459a-aea1-eebfbaeb9020",
   "metadata": {
    "id": "9fb19f0d"
   },
   "source": [
    "### Exercise 3:\n",
    "Create a string variable `name` with the value \"Python Programming\".\n",
    "\n",
    "```python\n",
    "# Exercise 3\n",
    "```"
   ]
  },
  {
   "cell_type": "code",
   "execution_count": 5,
   "id": "a1ca6141-03da-4ec3-ae2b-818ff474d063",
   "metadata": {},
   "outputs": [
    {
     "name": "stdout",
     "output_type": "stream",
     "text": [
      "Python Programming\n"
     ]
    },
    {
     "data": {
      "text/plain": [
       "str"
      ]
     },
     "execution_count": 5,
     "metadata": {},
     "output_type": "execute_result"
    }
   ],
   "source": [
    "name=\"Python Programming\"\n",
    "print(name)\n",
    "type(name)"
   ]
  },
  {
   "cell_type": "markdown",
   "id": "4cb7c097-47c2-4436-bdb6-04043d14ca80",
   "metadata": {
    "id": "9fb19f0d"
   },
   "source": [
    "---\n",
    "\n",
    "### Exercise 4:\n",
    "Assign the result of `5 + 3` to a variable `sum_result`.\n",
    "\n",
    "```python\n",
    "# Exercise 4\n",
    "```\n",
    "\n",
    "---"
   ]
  },
  {
   "cell_type": "code",
   "execution_count": 7,
   "id": "f577b2ae-c1a1-4a8a-87d0-09a6e26414f2",
   "metadata": {},
   "outputs": [
    {
     "name": "stdout",
     "output_type": "stream",
     "text": [
      "8\n"
     ]
    }
   ],
   "source": [
    "sum_result=5+3\n",
    "print(sum_result)"
   ]
  },
  {
   "cell_type": "markdown",
   "id": "52ebb017-2550-4c20-8b09-d1e7d868000b",
   "metadata": {
    "id": "9fb19f0d"
   },
   "source": [
    "### Exercise 5:\n",
    "Assign multiple variables in one line: `a = 5`, `b = 10`, `c = 15`.\n",
    "\n",
    "```python\n",
    "# Exercise 5\n",
    "```\n",
    "\n",
    "---"
   ]
  },
  {
   "cell_type": "code",
   "execution_count": 12,
   "id": "4047b0c5-0ea3-4a54-a3a9-0855c90da83a",
   "metadata": {},
   "outputs": [
    {
     "name": "stdout",
     "output_type": "stream",
     "text": [
      "5 10 15\n"
     ]
    }
   ],
   "source": [
    "a,b,c=5,10,15\n",
    "print(a,b,c)\n"
   ]
  },
  {
   "cell_type": "markdown",
   "id": "4e6810b3-4823-4d1c-9ff4-6e687c18b1c3",
   "metadata": {
    "id": "9fb19f0d"
   },
   "source": [
    "### Exercise 6:\n",
    "Assign the value of one variable `x` to another variable `y`.\n",
    "\n",
    "```python\n",
    "# Exercise 6\n",
    "```\n",
    "\n",
    "---"
   ]
  },
  {
   "cell_type": "code",
   "execution_count": 14,
   "id": "06c470b3-b381-4c4c-b453-e657b1533a44",
   "metadata": {},
   "outputs": [
    {
     "name": "stdout",
     "output_type": "stream",
     "text": [
      "10\n"
     ]
    }
   ],
   "source": [
    "x=10\n",
    "y=x\n",
    "print(y)"
   ]
  },
  {
   "cell_type": "markdown",
   "id": "b843f344-5d97-40aa-bc8a-eb94a5610a09",
   "metadata": {
    "id": "9fb19f0d"
   },
   "source": [
    "### Exercise 7:\n",
    "Assign a floating-point number `9.8` to a variable `gravity`.\n",
    "\n",
    "```python\n",
    "# Exercise 7\n",
    "```\n",
    "\n",
    "---"
   ]
  },
  {
   "cell_type": "code",
   "execution_count": 15,
   "id": "33e65833-b332-4818-be1e-1cca7ad8dda0",
   "metadata": {},
   "outputs": [
    {
     "name": "stdout",
     "output_type": "stream",
     "text": [
      "9.8\n"
     ]
    }
   ],
   "source": [
    "gravity=9.8\n",
    "print(gravity)"
   ]
  },
  {
   "cell_type": "markdown",
   "id": "8358d14f-da10-4d92-abb6-77d9af33258a",
   "metadata": {
    "id": "9fb19f0d"
   },
   "source": [
    "### Exercise 8:\n",
    "Create a variable `country` and assign it the string value of your favorite country.\n",
    "\n",
    "```python\n",
    "# Exercise 8\n",
    "```\n",
    "\n",
    "---"
   ]
  },
  {
   "cell_type": "code",
   "execution_count": 17,
   "id": "5b680393-39e6-4f0f-a2c1-c115c4a15fa9",
   "metadata": {},
   "outputs": [
    {
     "name": "stdout",
     "output_type": "stream",
     "text": [
      "Rwanda\n"
     ]
    },
    {
     "data": {
      "text/plain": [
       "str"
      ]
     },
     "execution_count": 17,
     "metadata": {},
     "output_type": "execute_result"
    }
   ],
   "source": [
    "country=\"Rwanda\"\n",
    "print(country)\n",
    "type(country)"
   ]
  },
  {
   "cell_type": "markdown",
   "id": "a19795ad-8a44-408c-bb52-0c1eb6131b66",
   "metadata": {
    "id": "9fb19f0d"
   },
   "source": [
    "### Exercise 9:\n",
    "Change the value of variable `age` from `25` to `26` in two separate steps.\n",
    "\n",
    "```python\n",
    "# Exercise 9\n",
    "```\n",
    "\n",
    "---"
   ]
  },
  {
   "cell_type": "code",
   "execution_count": 19,
   "id": "cbec4bd8-c247-408a-9a80-5abc99707fac",
   "metadata": {},
   "outputs": [
    {
     "name": "stdout",
     "output_type": "stream",
     "text": [
      "26\n"
     ]
    }
   ],
   "source": [
    "age=25\n",
    "age=26\n",
    "print(age)"
   ]
  },
  {
   "cell_type": "markdown",
   "id": "3bea55a7-d19e-4cfa-847a-7b3d38dc1209",
   "metadata": {
    "id": "9fb19f0d"
   },
   "source": [
    "### Exercise 10:\n",
    "Use one variable to store the result of subtracting two numbers `20 - 7`.\n",
    "\n",
    "```python\n",
    "# Exercise 10\n",
    "```\n",
    "\n",
    "---"
   ]
  },
  {
   "cell_type": "code",
   "execution_count": 20,
   "id": "6a377359-4e4e-472d-b1cc-d67ccf45dea8",
   "metadata": {},
   "outputs": [
    {
     "name": "stdout",
     "output_type": "stream",
     "text": [
      "13\n"
     ]
    }
   ],
   "source": [
    "g=20-7\n",
    "print(g)\n"
   ]
  },
  {
   "cell_type": "markdown",
   "id": "0cd046cb-c25f-4b11-a775-a34d149de33e",
   "metadata": {
    "id": "9fb19f0d"
   },
   "source": [
    "### Exercise 11:\n",
    "Assign an integer value and a floating-point value to two different variables.\n",
    "\n",
    "```python\n",
    "# Exercise 11\n",
    "```\n",
    "\n",
    "---"
   ]
  },
  {
   "cell_type": "code",
   "execution_count": 29,
   "id": "2e67b3dd-c932-4853-84a1-3eae715c16f2",
   "metadata": {},
   "outputs": [
    {
     "name": "stdout",
     "output_type": "stream",
     "text": [
      "35 35.05\n",
      "<class 'float'>\n",
      "<class 'int'>\n"
     ]
    }
   ],
   "source": [
    "d, k=35, 35.05\n",
    "print(d,k)\n",
    "print(type(k))\n",
    "print(type(d))"
   ]
  },
  {
   "cell_type": "markdown",
   "id": "c7666792-9918-4952-b918-71ea5550bdd9",
   "metadata": {
    "id": "9fb19f0d"
   },
   "source": [
    "### Exercise 12:\n",
    "Assign a boolean value `False` to a variable `is_completed`.\n",
    "\n",
    "```python\n",
    "# Exercise 12\n",
    "```\n",
    "\n",
    "---"
   ]
  },
  {
   "cell_type": "code",
   "execution_count": null,
   "id": "db485c0e-4f75-44f6-aca1-82e1cae449b6",
   "metadata": {},
   "outputs": [],
   "source": [
    "is_completed=False\n",
    "print(is_completed)\n"
   ]
  },
  {
   "cell_type": "raw",
   "id": "aeff2f99-7088-4029-b2cb-803495bdfac1",
   "metadata": {
    "id": "9fb19f0d"
   },
   "source": [
    "### Exercise 13:\n",
    "Swap the values of two variables `x` and `y`.\n",
    "\n",
    "```python\n",
    "# Exercise 13\n",
    "```\n",
    "\n",
    "---"
   ]
  },
  {
   "cell_type": "raw",
   "id": "8ba5b7c6-884b-45d6-b59b-ae1f0e182031",
   "metadata": {},
   "source": []
  },
  {
   "cell_type": "code",
   "execution_count": 20,
   "id": "b34d0315-ef73-4896-af09-e1c1cd2c1d8a",
   "metadata": {},
   "outputs": [
    {
     "name": "stdout",
     "output_type": "stream",
     "text": [
      "1 1 0\n",
      "x = 10\n",
      "y = 5\n"
     ]
    }
   ],
   "source": [
    "var_1=True\n",
    "var_2=False\n",
    "var_1,var_2 = int(var_1),int(var_2)\n",
    "k1= var_1+var_2\n",
    "k2=var_1-var_2\n",
    "k3=var_2*var_1\n",
    "print(k1,k2,k3)\n",
    "\n",
    "## alternative\n",
    "\n",
    "x = 5\n",
    "y = 10\n",
    "\n",
    "# Swapping using a temporary variable\n",
    "temp = x\n",
    "x = y\n",
    "y = temp\n",
    "\n",
    "print(\"x =\", x)\n",
    "print(\"y =\", y)\n"
   ]
  },
  {
   "cell_type": "code",
   "execution_count": null,
   "id": "deeb6356-ed10-4293-bb5b-96e734df149a",
   "metadata": {
    "id": "9fb19f0d"
   },
   "outputs": [],
   "source": [
    "### Exercise 14:\n",
    "Assign a complex number `3 + 4j` to a variable `complex_num`.\n",
    "\n",
    "```python\n",
    "# Exercise 14\n",
    "```\n",
    "\n",
    "---"
   ]
  },
  {
   "cell_type": "code",
   "execution_count": 38,
   "id": "8fa7d3aa-1f66-46a5-98c0-7c95394d4b29",
   "metadata": {},
   "outputs": [
    {
     "name": "stdout",
     "output_type": "stream",
     "text": [
      "(3+4j)\n"
     ]
    }
   ],
   "source": [
    "complex_num=3+4j\n",
    "print(complex_num)"
   ]
  },
  {
   "cell_type": "markdown",
   "id": "3d5a5a0c-0e49-45cf-9311-cfe926faed22",
   "metadata": {
    "id": "9fb19f0d"
   },
   "source": [
    "### Exercise 15:\n",
    "Reassign a variable from an integer to a string.\n",
    "\n",
    "```python\n",
    "# Exercise 15\n",
    "```"
   ]
  },
  {
   "cell_type": "code",
   "execution_count": 42,
   "id": "0a08b04b-af07-4c22-8685-b95c2edc87e6",
   "metadata": {},
   "outputs": [
    {
     "data": {
      "text/plain": [
       "str"
      ]
     },
     "execution_count": 42,
     "metadata": {},
     "output_type": "execute_result"
    }
   ],
   "source": [
    "d=116\n",
    "d=str(d)\n",
    "type(d)"
   ]
  },
  {
   "cell_type": "markdown",
   "id": "cbc43cfe-849e-4f87-91c3-f4445aa5a258",
   "metadata": {
    "id": "9fb19f0d"
   },
   "source": [
    "---\n",
    "\n",
    "### Exercise 16:\n",
    "Create two variables `first_name` and `last_name`, and assign them your first and last names.\n",
    "\n",
    "```python\n",
    "# Exercise 16\n",
    "```"
   ]
  },
  {
   "cell_type": "code",
   "execution_count": 47,
   "id": "f09a3be0-8f32-4344-b33c-d02424d12af1",
   "metadata": {},
   "outputs": [
    {
     "name": "stdout",
     "output_type": "stream",
     "text": [
      "Jean MANIRIHO\n"
     ]
    }
   ],
   "source": [
    "first_name=\"Jean\"\n",
    "last_name=\"MANIRIHO\"\n",
    "print(first_name,last_name)\n",
    "   "
   ]
  },
  {
   "cell_type": "markdown",
   "id": "54bb2961-08ab-4223-8638-02ea4cb30713",
   "metadata": {
    "id": "9fb19f0d"
   },
   "source": [
    "---\n",
    "\n",
    "### Exercise 17:\n",
    "Create a variable `temperature` and assign it the value of `35.5`.\n",
    "\n",
    "```python\n",
    "# Exercise 17\n",
    "```"
   ]
  },
  {
   "cell_type": "code",
   "execution_count": null,
   "id": "a5a5f907-bac6-4218-82d5-8acbd32435ea",
   "metadata": {},
   "outputs": [],
   "source": [
    "temperature=35.5\n",
    "print(temperature)"
   ]
  },
  {
   "cell_type": "markdown",
   "id": "9f77675e-c3d4-4039-aab4-6d4067120068",
   "metadata": {
    "id": "9fb19f0d"
   },
   "source": [
    "---\n",
    "\n",
    "### Exercise 18:\n",
    "Assign the result of the multiplication of two numbers `8 * 6` to a variable `product`.\n",
    "\n",
    "```python\n",
    "# Exercise 18\n",
    "```\n",
    "\n",
    "---"
   ]
  },
  {
   "cell_type": "code",
   "execution_count": 1,
   "id": "1f3c6114-43ad-4540-af0b-7cf379250d52",
   "metadata": {},
   "outputs": [
    {
     "name": "stdout",
     "output_type": "stream",
     "text": [
      "48\n"
     ]
    }
   ],
   "source": [
    "a=8\n",
    "b=6\n",
    "product=a*b\n",
    "print(product)"
   ]
  },
  {
   "cell_type": "markdown",
   "id": "3935ecb8-689c-4ab5-8458-39a0da8edceb",
   "metadata": {
    "id": "9fb19f0d"
   },
   "source": [
    "### Exercise 19:\n",
    "Assign a sentence of your choice to a variable `sentence`.\n",
    "\n",
    "```python\n",
    "# Exercise 19\n",
    "```\n",
    "\n",
    "---"
   ]
  },
  {
   "cell_type": "code",
   "execution_count": 2,
   "id": "f90f1865-3905-43b0-a5c0-15fee93d3809",
   "metadata": {},
   "outputs": [
    {
     "name": "stdout",
     "output_type": "stream",
     "text": [
      " education is key of life\n"
     ]
    }
   ],
   "source": [
    "sentence=\" education is key of life\"\n",
    "print(sentence)"
   ]
  },
  {
   "cell_type": "markdown",
   "id": "b6295bea-4d0f-41db-9a9b-d38fade991b7",
   "metadata": {
    "id": "9fb19f0d"
   },
   "source": [
    "### Exercise 20:\n",
    "Use an assignment to convert a string `'50'` into an integer variable `int_value`.\n",
    "\n",
    "```python\n",
    "# Exercise 20\n",
    "```\n",
    "\n",
    "---"
   ]
  },
  {
   "cell_type": "code",
   "execution_count": 6,
   "id": "7e7ebebf-3789-48a7-9768-d44354366e23",
   "metadata": {},
   "outputs": [
    {
     "name": "stdout",
     "output_type": "stream",
     "text": [
      "50\n"
     ]
    }
   ],
   "source": [
    "int_value=int('50')\n",
    "print(int_value)"
   ]
  },
  {
   "cell_type": "markdown",
   "id": "005945d5-a550-461a-a36d-a0608482bfac",
   "metadata": {
    "id": "9fb19f0d"
   },
   "source": [
    "### Exercise 21:\n",
    "Assign the result of dividing `144` by `12` to a variable `quotient`.\n",
    "\n",
    "```python\n",
    "# Exercise 21\n",
    "```\n",
    "\n",
    "---"
   ]
  },
  {
   "cell_type": "code",
   "execution_count": 4,
   "id": "2e384993-e086-4f4d-ac15-479b11e48601",
   "metadata": {},
   "outputs": [
    {
     "name": "stdout",
     "output_type": "stream",
     "text": [
      "12.0\n"
     ]
    }
   ],
   "source": [
    "quotient=144/12 ## with decimal\n",
    "print(quotient)\n"
   ]
  },
  {
   "cell_type": "code",
   "execution_count": 5,
   "id": "dd036d2b-3aaa-46c6-8ae7-17888cb98719",
   "metadata": {},
   "outputs": [
    {
     "name": "stdout",
     "output_type": "stream",
     "text": [
      "12\n"
     ]
    }
   ],
   "source": [
    "quotient=144//12   ### integer division\n",
    "print(quotient)"
   ]
  },
  {
   "cell_type": "markdown",
   "id": "7bb53d50-4ee1-4773-87be-9d8fb7c2e604",
   "metadata": {
    "id": "9fb19f0d"
   },
   "source": [
    "### Exercise 22:\n",
    "Assign the remainder of `47 divided by 5` to a variable `remainder`.\n",
    "\n",
    "```python\n",
    "# Exercise 22\n",
    "```\n",
    "\n",
    "---"
   ]
  },
  {
   "cell_type": "code",
   "execution_count": 3,
   "id": "0d99c2f0-7351-4425-af40-6a8e55d069f9",
   "metadata": {},
   "outputs": [
    {
     "name": "stdout",
     "output_type": "stream",
     "text": [
      "2\n"
     ]
    }
   ],
   "source": [
    "remainder=47%5\n",
    "print(remainder)"
   ]
  },
  {
   "cell_type": "markdown",
   "id": "5e369c1b-26f4-4929-9719-c8ef097f2ffb",
   "metadata": {
    "id": "9fb19f0d"
   },
   "source": [
    "### Exercise 23:\n",
    "Create a variable `is_student` and assign it the value `True`.\n",
    "\n",
    "```python\n",
    "# Exercise 23\n",
    "```\n",
    "\n",
    "---"
   ]
  },
  {
   "cell_type": "code",
   "execution_count": null,
   "id": "21b9e7dc-0f42-40b9-bb2d-fff479ac99da",
   "metadata": {},
   "outputs": [],
   "source": [
    "is_student=True\n",
    "print(is_student)"
   ]
  },
  {
   "cell_type": "raw",
   "id": "228ae8aa-0e18-4819-826e-de5c1bc1464e",
   "metadata": {
    "id": "9fb19f0d"
   },
   "source": [
    "### Exercise 24:\n",
    "Use a variable to store the result of a modulo operation: `45 % 4`.\n",
    "\n",
    "```python\n",
    "# Exercise 24\n",
    "```\n",
    "\n",
    "---"
   ]
  },
  {
   "cell_type": "code",
   "execution_count": null,
   "id": "870d6cf9-923a-4fd3-bfd8-ab9c498bc09d",
   "metadata": {},
   "outputs": [],
   "source": [
    "remainder=45%4\n",
    "print(remainder)\n"
   ]
  },
  {
   "cell_type": "markdown",
   "id": "d779cfbb-593d-480b-b3b0-e39af5a1290e",
   "metadata": {
    "id": "9fb19f0d"
   },
   "source": [
    "### Exercise 25:\n",
    "Create a variable `pi` and assign it the value `3.14159`.\n",
    "\n",
    "```python\n",
    "# Exercise 25\n",
    "```\n",
    "\n",
    "---"
   ]
  },
  {
   "cell_type": "code",
   "execution_count": null,
   "id": "b5454a58-c500-4133-ab77-c5fae7f684b2",
   "metadata": {},
   "outputs": [],
   "source": [
    "pi=3.14159\n",
    "print(pi)"
   ]
  },
  {
   "cell_type": "markdown",
   "id": "413e5814-e841-472e-8bbd-d8b087bb3d4f",
   "metadata": {
    "id": "9fb19f0d"
   },
   "source": [
    "### Exercise 26:\n",
    "Create two variables `length` and `width`, assign them values, and calculate the area of a rectangle.\n",
    "\n",
    "```python\n",
    "# Exercise 26\n",
    "```\n",
    "\n",
    "---"
   ]
  },
  {
   "cell_type": "code",
   "execution_count": 3,
   "id": "56d2b910-4f2b-4f18-b2a6-235f5b1dafc4",
   "metadata": {},
   "outputs": [
    {
     "name": "stdout",
     "output_type": "stream",
     "text": [
      "22.5\n"
     ]
    }
   ],
   "source": [
    "length=4.5\n",
    "width=5\n",
    "area=length*width\n",
    "print(area)"
   ]
  },
  {
   "cell_type": "markdown",
   "id": "f54b30e0-1ae2-473c-b24c-4dc4c47a34e7",
   "metadata": {
    "id": "9fb19f0d"
   },
   "source": [
    "### Exercise 27:\n",
    "Assign a negative number to a variable `negative_value`.\n",
    "\n",
    "```python\n",
    "# Exercise 27\n",
    "```\n",
    "\n",
    "---"
   ]
  },
  {
   "cell_type": "code",
   "execution_count": 4,
   "id": "05d2d5ba-f00a-47a8-87a7-9095daf4b269",
   "metadata": {},
   "outputs": [
    {
     "name": "stdout",
     "output_type": "stream",
     "text": [
      "-18\n"
     ]
    }
   ],
   "source": [
    "negative_value=-18\n",
    "print(negative_value)"
   ]
  },
  {
   "cell_type": "markdown",
   "id": "ac07eed0-878c-4181-a9a7-4c7475be3e06",
   "metadata": {
    "id": "9fb19f0d"
   },
   "source": [
    "### Exercise 28:\n",
    "Assign a string containing a special character (e.g., \"Hello, World!\") to a variable `greeting`.\n",
    "\n",
    "```python\n",
    "# Exercise 28\n",
    "```\n",
    "\n",
    "---"
   ]
  },
  {
   "cell_type": "code",
   "execution_count": 5,
   "id": "a1ddd580-76bb-43b1-b909-0a66e7528f5d",
   "metadata": {},
   "outputs": [
    {
     "name": "stdout",
     "output_type": "stream",
     "text": [
      "Guten Danke!\n"
     ]
    }
   ],
   "source": [
    "greeting=\"Guten Abend!\"\n",
    "print(greeting)"
   ]
  },
  {
   "cell_type": "markdown",
   "id": "898f77ea-1edc-435b-9875-41b9c8e8474e",
   "metadata": {
    "id": "9fb19f0d"
   },
   "source": [
    "### Exercise 29:\n",
    "Create a variable `population` and assign it a large integer value (in billions).\n",
    "\n",
    "```python\n",
    "# Exercise 29\n",
    "```\n",
    "\n",
    "---"
   ]
  },
  {
   "cell_type": "code",
   "execution_count": 6,
   "id": "f5cc9c0b-e0d3-4e07-9e00-97ed47442fb8",
   "metadata": {},
   "outputs": [
    {
     "name": "stdout",
     "output_type": "stream",
     "text": [
      "7800000000\n"
     ]
    }
   ],
   "source": [
    "population=7_800_000_000\n",
    "print(population)"
   ]
  },
  {
   "cell_type": "markdown",
   "id": "559ccaa6-b454-4d2a-a798-96d2ca573e03",
   "metadata": {
    "id": "9fb19f0d"
   },
   "source": [
    "### Exercise 30:\n",
    "Use a variable to store the result of raising `2` to the power of `8`.\n",
    "\n",
    "```python\n",
    "# Exercise 30\n",
    "```\n",
    "\n",
    "---"
   ]
  },
  {
   "cell_type": "code",
   "execution_count": 7,
   "id": "39585858-85bc-44ec-822b-11290ccddd48",
   "metadata": {},
   "outputs": [
    {
     "name": "stdout",
     "output_type": "stream",
     "text": [
      "256\n"
     ]
    }
   ],
   "source": [
    "x=2**8\n",
    "print(x)"
   ]
  },
  {
   "cell_type": "markdown",
   "id": "01c58601-d693-4db7-9797-1a76aa2008b6",
   "metadata": {
    "id": "9fb19f0d"
   },
   "source": [
    "### Exercise 31:\n",
    "Assign a list of your favorite fruits to a variable `fruits`.\n",
    "\n",
    "```python\n",
    "# Exercise 31\n",
    "```\n",
    "\n",
    "---"
   ]
  },
  {
   "cell_type": "code",
   "execution_count": 14,
   "id": "ca8ab907-9441-420c-a88a-356039edbcad",
   "metadata": {},
   "outputs": [
    {
     "name": "stdout",
     "output_type": "stream",
     "text": [
      "(2, 3, 4, 5, 50)\n"
     ]
    }
   ],
   "source": [
    "fruits=(2,3,4,5,50)\n",
    "print(fruits)"
   ]
  },
  {
   "cell_type": "markdown",
   "id": "9c16b661-e001-4703-8f78-2c8be0a183e5",
   "metadata": {
    "id": "9fb19f0d"
   },
   "source": [
    "### Exercise 32:\n",
    "Assign a tuple of three numbers to a variable `coordinates`.\n",
    "\n",
    "```python\n",
    "# Exercise 32\n",
    "```\n",
    "\n",
    "---"
   ]
  },
  {
   "cell_type": "code",
   "execution_count": 2,
   "id": "269c5c5f-5495-4bb3-b006-91e3900d42ac",
   "metadata": {},
   "outputs": [
    {
     "name": "stdout",
     "output_type": "stream",
     "text": [
      "(10, 20, 30)\n"
     ]
    }
   ],
   "source": [
    "coordinates = (10, 20, 30)  # Tuple with three numbers\n",
    "print(coordinates)"
   ]
  },
  {
   "cell_type": "markdown",
   "id": "289255a4-d4be-4169-88b2-29177909e932",
   "metadata": {
    "id": "9fb19f0d"
   },
   "source": [
    "### Exercise 33:\n",
    "Assign a dictionary with keys `name` and `age` to a variable `person`.\n",
    "\n",
    "```python\n",
    "# Exercise 33\n",
    "```"
   ]
  },
  {
   "cell_type": "code",
   "execution_count": 1,
   "id": "50b89031-8b45-4678-b4b8-8ac7b5889884",
   "metadata": {},
   "outputs": [
    {
     "name": "stdout",
     "output_type": "stream",
     "text": [
      "(10, 20, 30)\n",
      "{'name': 'Dangote', 'age': 27}\n"
     ]
    }
   ],
   "source": [
    "\n",
    "person = {\"name\": \"Dangote\", \"age\": 27}  # Dictionary with keys 'name' and 'age'\n",
    "print(person)\n"
   ]
  },
  {
   "cell_type": "markdown",
   "id": "fc2124f8-a8f4-43dc-89de-2633142135d2",
   "metadata": {
    "id": "9fb19f0d"
   },
   "source": [
    "### Exercise 34:\n",
    "Use variables to store the sum of two floating-point numbers.\n",
    "\n",
    "```python\n",
    "# Exercise 34\n",
    "```\n",
    "\n",
    "---"
   ]
  },
  {
   "cell_type": "code",
   "execution_count": null,
   "id": "01926b0b-c389-4007-bbc1-6df16a03d805",
   "metadata": {},
   "outputs": [],
   "source": [
    "a=3.5\n",
    "b=44.5\n",
    "np.sum()"
   ]
  },
  {
   "cell_type": "markdown",
   "id": "9f020912-f701-437a-906c-e9df0f7aaf26",
   "metadata": {
    "id": "9fb19f0d"
   },
   "source": [
    "### Exercise 35:\n",
    "Create a variable `is_sunny` and assign it the result of a comparison `10 > 5`.\n",
    "\n",
    "```python\n",
    "# Exercise 35\n",
    "```\n",
    "\n",
    "---"
   ]
  },
  {
   "cell_type": "code",
   "execution_count": 15,
   "id": "3cdcee70-a3dd-4522-984c-abd6dc452806",
   "metadata": {},
   "outputs": [
    {
     "name": "stdout",
     "output_type": "stream",
     "text": [
      "True\n"
     ]
    }
   ],
   "source": [
    "is_sunny=10>5\n",
    "print(is_sunny)\n"
   ]
  },
  {
   "cell_type": "markdown",
   "id": "8c9a3066-fb39-4f49-b655-510b482dd7e7",
   "metadata": {
    "id": "9fb19f0d"
   },
   "source": [
    "### Exercise 36:\n",
    "Assign a string and an integer to two different variables, then print both on one line.\n",
    "\n",
    "```python\n",
    "# Exercise 36\n",
    "```\n",
    "\n",
    "---"
   ]
  },
  {
   "cell_type": "code",
   "execution_count": 18,
   "id": "3f1b8fdb-60f2-4a09-b972-c5e456aa4e62",
   "metadata": {},
   "outputs": [
    {
     "name": "stdout",
     "output_type": "stream",
     "text": [
      "Ali 20\n"
     ]
    }
   ],
   "source": [
    "x,y=\"Ali\",20\n",
    "print(x,y)"
   ]
  },
  {
   "cell_type": "markdown",
   "id": "1519e703-69e3-4ac8-bb1b-fcbc0024e7df",
   "metadata": {
    "id": "9fb19f0d"
   },
   "source": [
    "### Exercise 37:\n",
    "Reassign a variable that originally held a number to a boolean value.\n",
    "\n",
    "```python\n",
    "# Exercise 37\n",
    "```\n",
    "\n",
    "---"
   ]
  },
  {
   "cell_type": "code",
   "execution_count": 19,
   "id": "b2abdde0-8e31-453a-8776-7c32e5bc1bf9",
   "metadata": {},
   "outputs": [
    {
     "name": "stdout",
     "output_type": "stream",
     "text": [
      "True\n"
     ]
    }
   ],
   "source": [
    "a=5\n",
    "a=True\n",
    "print(a)"
   ]
  },
  {
   "cell_type": "markdown",
   "id": "0180270e-1fbc-4c07-8220-7c9b175032b9",
   "metadata": {
    "id": "9fb19f0d"
   },
   "source": [
    "### Exercise 38:\n",
    "Create a variable `is_weekend` and assign it the result of `False`.\n",
    "\n",
    "```python\n",
    "# Exercise 38\n",
    "```"
   ]
  },
  {
   "cell_type": "code",
   "execution_count": 20,
   "id": "286cac8b-9bc0-45e8-b250-7b69ada75ba6",
   "metadata": {},
   "outputs": [
    {
     "name": "stdout",
     "output_type": "stream",
     "text": [
      "False\n"
     ]
    }
   ],
   "source": [
    "is_weekend=False\n",
    "print(is_weekend)"
   ]
  },
  {
   "cell_type": "markdown",
   "id": "34082f1f-e9e6-402d-b2dd-126c130df4fa",
   "metadata": {
    "id": "9fb19f0d"
   },
   "source": [
    "---\n",
    "\n",
    "### Exercise 39:\n",
    "Assign a multi-line string to a variable `description`.\n",
    "\n",
    "```python\n",
    "# Exercise 39\n",
    "```"
   ]
  },
  {
   "cell_type": "code",
   "execution_count": 19,
   "id": "ac8e270c-0aae-44ed-92e7-d38b27207b93",
   "metadata": {},
   "outputs": [
    {
     "name": "stdout",
     "output_type": "stream",
     "text": [
      "This is a multi-line string.\n",
      "It can span multiple lines.\n",
      "Each line will be preserved in the variable.\n"
     ]
    }
   ],
   "source": [
    "# Multi-line string assignment\n",
    "description = \"\"\"This is a multi-line string.\n",
    "It can span multiple lines.\n",
    "Each line will be preserved in the variable.\"\"\"\n",
    "print(description)\n"
   ]
  },
  {
   "cell_type": "markdown",
   "id": "586d7f28-bfc5-4eaa-8a47-44f90f1f18a3",
   "metadata": {
    "id": "9fb19f0d"
   },
   "source": [
    "---\n",
    "\n",
    "### Exercise 40:\n",
    "Use variables to store the result of the absolute value of `-25`.\n",
    "\n",
    "```python\n",
    "# Exercise 40\n",
    "```\n",
    "\n",
    "---"
   ]
  },
  {
   "cell_type": "markdown",
   "id": "e56f8910-dd40-4ac1-8501-b1abfb32d0c8",
   "metadata": {
    "id": "9fb19f0d"
   },
   "source": [
    "### Exercise 41:\n",
    "Assign the result of a floor division `100 // 6` to a variable `floor_div_result`.\n",
    "\n",
    "```python\n",
    "# Exercise 41\n",
    "```"
   ]
  },
  {
   "cell_type": "code",
   "execution_count": 21,
   "id": "11109105-244d-4de1-8491-480a9647910e",
   "metadata": {},
   "outputs": [
    {
     "name": "stdout",
     "output_type": "stream",
     "text": [
      "16\n"
     ]
    }
   ],
   "source": [
    "floor_div_result=100//6\n",
    "print(floor_div_result)\n"
   ]
  },
  {
   "cell_type": "markdown",
   "id": "d7ff3d38-99ae-4090-8ab5-3b313f725f8a",
   "metadata": {
    "id": "9fb19f0d"
   },
   "source": [
    "---\n",
    "\n",
    "### Exercise 42:\n",
    "Assign the result of adding a floating-point number to an integer to a variable `mixed_sum`.\n",
    "\n",
    "```python\n",
    "# Exercise 42\n",
    "```\n",
    "\n",
    "---"
   ]
  },
  {
   "cell_type": "code",
   "execution_count": 18,
   "id": "ab57b6ef-5fbb-4de2-96a8-a4736d116c63",
   "metadata": {},
   "outputs": [
    {
     "name": "stdout",
     "output_type": "stream",
     "text": [
      "83.05\n"
     ]
    }
   ],
   "source": [
    "f=3.05 ## floot\n",
    "g=80 ## integer\n",
    "\n",
    "mixed_sum=f+g\n",
    "print(mixed_sum)"
   ]
  },
  {
   "cell_type": "markdown",
   "id": "e129b439-864a-4d8d-8629-be6aff76c6c7",
   "metadata": {
    "id": "9fb19f0d"
   },
   "source": [
    "### Exercise 43:\n",
    "Assign a boolean value based on the comparison of two variables `a = 10` and `b = 15`.\n",
    "\n",
    "```python\n",
    "# Exercise 43\n",
    "```\n",
    "\n",
    "---"
   ]
  },
  {
   "cell_type": "code",
   "execution_count": null,
   "id": "75586683-18ae-4114-9d91-008c15054b76",
   "metadata": {},
   "outputs": [],
   "source": [
    "\n",
    "a = 10\n",
    "b = 15\n",
    "\n",
    "is_greater = a > b  # This will be False because 10 is not greater than 15\n"
   ]
  },
  {
   "cell_type": "markdown",
   "id": "f7cb76a4-3656-42c0-8a34-8cf505af9c67",
   "metadata": {
    "id": "9fb19f0d"
   },
   "source": [
    "### Exercise 44:\n",
    "Assign a long sentence to a variable and count its characters using `len()`.\n",
    "\n",
    "```python\n",
    "# Exercise 44\n",
    "```\n",
    "\n",
    "-"
   ]
  },
  {
   "cell_type": "code",
   "execution_count": 22,
   "id": "5263c46d-60dd-49ed-8d83-a05a080ba1b1",
   "metadata": {},
   "outputs": [
    {
     "data": {
      "text/plain": [
       "45"
      ]
     },
     "execution_count": 22,
     "metadata": {},
     "output_type": "execute_result"
    }
   ],
   "source": [
    "quote=\"Education is great weapon to change the world\"\n",
    "len(quote)"
   ]
  },
  {
   "cell_type": "markdown",
   "id": "496098e1-d181-469f-b9b7-be316cf0fec5",
   "metadata": {
    "id": "9fb19f0d"
   },
   "source": [
    "--\n",
    "\n",
    "### Exercise 45:\n",
    "Assign a fractional result `7 / 3` to a variable `division_result`.\n",
    "\n",
    "```python\n",
    "# Exercise 45\n",
    "```"
   ]
  },
  {
   "cell_type": "code",
   "execution_count": 23,
   "id": "3939d4a2-29b0-4bbd-ab85-4a97d071966a",
   "metadata": {},
   "outputs": [
    {
     "name": "stdout",
     "output_type": "stream",
     "text": [
      "2.3333333333333335\n"
     ]
    }
   ],
   "source": [
    "division_result=7/3\n",
    "print(division_result)"
   ]
  },
  {
   "cell_type": "markdown",
   "id": "cb2b3379-c2e9-43a5-8a14-f73e1140c6c6",
   "metadata": {
    "id": "9fb19f0d"
   },
   "source": [
    "---\n",
    "\n",
    "### Exercise 46:\n",
    "Create a variable `speed` and assign it the value of 100 kilometers per hour.\n",
    "\n",
    "```python\n",
    "# Exercise 46\n",
    "```\n",
    "\n",
    "---"
   ]
  },
  {
   "cell_type": "code",
   "execution_count": 24,
   "id": "73f7fabf-f582-4434-8b24-90379208537e",
   "metadata": {},
   "outputs": [
    {
     "name": "stdout",
     "output_type": "stream",
     "text": [
      "Speed is: 100 km/h\n"
     ]
    }
   ],
   "source": [
    "speed = 100  # speed in kilometers per hour\n",
    "print(\"Speed is:\", speed, \"km/h\")\n"
   ]
  },
  {
   "cell_type": "markdown",
   "id": "9d78519b-0006-4859-aad3-ebf4ff944bf6",
   "metadata": {
    "id": "9fb19f0d"
   },
   "source": [
    "### Exercise 47:\n",
    "Assign a multi-variable equation like `y = 3x + 5` where `x = 4` to a variable `y`.\n",
    "\n",
    "```python\n",
    "# Exercise 47\n",
    "```\n",
    "\n",
    "---"
   ]
  },
  {
   "cell_type": "code",
   "execution_count": 7,
   "id": "012fef8d-62ee-4162-8873-114c86da9667",
   "metadata": {},
   "outputs": [
    {
     "name": "stdout",
     "output_type": "stream",
     "text": [
      "y = 17\n"
     ]
    }
   ],
   "source": [
    "# Exercise 47\n",
    "x = 4\n",
    "y = 3 * x + 5\n",
    "print(\"y =\", y)  # Output: 17\n"
   ]
  },
  {
   "cell_type": "markdown",
   "id": "023b6b49-c479-4b36-b69c-82b01fd1c047",
   "metadata": {
    "id": "9fb19f0d"
   },
   "source": [
    "### Exercise 48:\n",
    "Use variables to calculate and store the average of three numbers.\n",
    "\n",
    "```python\n",
    "# Exercise 48\n",
    "```\n",
    "\n",
    "****"
   ]
  },
  {
   "cell_type": "code",
   "execution_count": 15,
   "id": "ce8758bb-b33f-4feb-b302-8979c59327b1",
   "metadata": {},
   "outputs": [
    {
     "name": "stdout",
     "output_type": "stream",
     "text": [
      "[34, 45, 78]\n",
      "52.333333333333336\n",
      "52.333333333333336\n"
     ]
    }
   ],
   "source": [
    "\n",
    "import pandas as pd\n",
    "import numpy as np\n",
    "a=34\n",
    "b=45\n",
    "c=78\n",
    "f=[a,b,c]\n",
    "print(f)\n",
    "average=np.mean(f) ## by command np.mean()\n",
    "\n",
    "print(average)\n",
    "\n",
    "average=sum(f)/len(f) ### by sum and lenght of vector\n",
    "print (average)"
   ]
  },
  {
   "cell_type": "code",
   "execution_count": null,
   "id": "930e1bdd-4fcd-4f94-9d5d-a7dd882941e6",
   "metadata": {},
   "outputs": [],
   "source": []
  }
 ],
 "metadata": {
  "colab": {
   "provenance": []
  },
  "kernelspec": {
   "display_name": "Python 3 (ipykernel)",
   "language": "python",
   "name": "python3"
  },
  "language_info": {
   "codemirror_mode": {
    "name": "ipython",
    "version": 3
   },
   "file_extension": ".py",
   "mimetype": "text/x-python",
   "name": "python",
   "nbconvert_exporter": "python",
   "pygments_lexer": "ipython3",
   "version": "3.12.7"
  }
 },
 "nbformat": 4,
 "nbformat_minor": 5
}
